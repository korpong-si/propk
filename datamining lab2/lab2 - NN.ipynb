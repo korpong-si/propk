{
 "cells": [
  {
   "cell_type": "markdown",
   "metadata": {
    "colab_type": "text",
    "id": "AQTYHfKnwUrS"
   },
   "source": [
    "# <center>Lab 2: NN (Fixed TensorFlow 2.x problem)  <center>"
   ]
  },
  {
   "cell_type": "markdown",
   "metadata": {
    "colab_type": "text",
    "id": "iir3fH8uwUrU"
   },
   "source": [
    "### Import Libaries"
   ]
  },
  {
   "cell_type": "code",
   "execution_count": 1,
   "metadata": {
    "colab": {},
    "colab_type": "code",
    "id": "DVUE_OWDwUrV"
   },
   "outputs": [],
   "source": [
    "import pandas as pd\n",
    "import numpy as np \n",
    "import matplotlib.pyplot as plt\n",
    "from matplotlib.pyplot import rcParams\n",
    "import seaborn as sn\n",
    "%matplotlib inline"
   ]
  },
  {
   "cell_type": "markdown",
   "metadata": {
    "colab_type": "text",
    "id": "-5gwTL9XwUrY"
   },
   "source": [
    "### Import titanic dataset"
   ]
  },
  {
   "cell_type": "code",
   "execution_count": 2,
   "metadata": {
    "colab": {
     "base_uri": "https://localhost:8080/",
     "height": 74,
     "resources": {
      "http://localhost:8080/nbextensions/google.colab/files.js": {
       "data": "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",
       "headers": [
        [
         "content-type",
         "application/javascript"
        ]
       ],
       "ok": true,
       "status": 200,
       "status_text": ""
      }
     }
    },
    "colab_type": "code",
    "executionInfo": {
     "elapsed": 26886,
     "status": "ok",
     "timestamp": 1555726894252,
     "user": {
      "displayName": "Janjao Mongkolnavin",
      "photoUrl": "https://lh3.googleusercontent.com/-5p6F2tkRukQ/AAAAAAAAAAI/AAAAAAAABb0/aOVcWsfItDU/s64/photo.jpg",
      "userId": "04965209409184054695"
     },
     "user_tz": -420
    },
    "id": "gdgQjmjBwWLR",
    "outputId": "1aeecbf5-2a44-439c-cb58-d1f4db76622a"
   },
   "outputs": [],
   "source": [
    "url = 'https://raw.githubusercontent.com/korpong-si/propk/master/titanic.csv'"
   ]
  },
  {
   "cell_type": "code",
   "execution_count": 3,
   "metadata": {
    "colab": {
     "base_uri": "https://localhost:8080/",
     "height": 221
    },
    "colab_type": "code",
    "executionInfo": {
     "elapsed": 1291,
     "status": "ok",
     "timestamp": 1586149269927,
     "user": {
      "displayName": "Janjao Mongkolnavin",
      "photoUrl": "https://lh3.googleusercontent.com/a-/AOh14GiStv0UVXFLFMWLs8gKXXXHSKXF7YyRDI9t67DBRQ=s64",
      "userId": "04965209409184054695"
     },
     "user_tz": -420
    },
    "id": "4YKVy4uhwUrZ",
    "outputId": "db87e7b5-13da-4a3b-af18-f23bda87620c"
   },
   "outputs": [
    {
     "data": {
      "text/html": [
       "<div>\n",
       "<style scoped>\n",
       "    .dataframe tbody tr th:only-of-type {\n",
       "        vertical-align: middle;\n",
       "    }\n",
       "\n",
       "    .dataframe tbody tr th {\n",
       "        vertical-align: top;\n",
       "    }\n",
       "\n",
       "    .dataframe thead th {\n",
       "        text-align: right;\n",
       "    }\n",
       "</style>\n",
       "<table border=\"1\" class=\"dataframe\">\n",
       "  <thead>\n",
       "    <tr style=\"text-align: right;\">\n",
       "      <th></th>\n",
       "      <th>Survived</th>\n",
       "      <th>Pclass</th>\n",
       "      <th>Age</th>\n",
       "      <th>SibSp</th>\n",
       "      <th>Parch</th>\n",
       "      <th>FamilySize</th>\n",
       "      <th>Fare</th>\n",
       "      <th>Cabin</th>\n",
       "      <th>Title_Master</th>\n",
       "      <th>Title_Miss</th>\n",
       "      <th>Title_Mr</th>\n",
       "      <th>Title_Mrs</th>\n",
       "      <th>Title_Rare</th>\n",
       "      <th>Sex_female</th>\n",
       "      <th>Sex_male</th>\n",
       "      <th>Embarked_C</th>\n",
       "      <th>Embarked_Q</th>\n",
       "      <th>Embarked_S</th>\n",
       "    </tr>\n",
       "  </thead>\n",
       "  <tbody>\n",
       "    <tr>\n",
       "      <td>0</td>\n",
       "      <td>0</td>\n",
       "      <td>3</td>\n",
       "      <td>22.0</td>\n",
       "      <td>1</td>\n",
       "      <td>0</td>\n",
       "      <td>2</td>\n",
       "      <td>7.2500</td>\n",
       "      <td>0</td>\n",
       "      <td>0</td>\n",
       "      <td>0</td>\n",
       "      <td>1</td>\n",
       "      <td>0</td>\n",
       "      <td>0</td>\n",
       "      <td>0</td>\n",
       "      <td>1</td>\n",
       "      <td>0</td>\n",
       "      <td>0</td>\n",
       "      <td>1</td>\n",
       "    </tr>\n",
       "    <tr>\n",
       "      <td>1</td>\n",
       "      <td>1</td>\n",
       "      <td>1</td>\n",
       "      <td>38.0</td>\n",
       "      <td>1</td>\n",
       "      <td>0</td>\n",
       "      <td>2</td>\n",
       "      <td>71.2833</td>\n",
       "      <td>1</td>\n",
       "      <td>0</td>\n",
       "      <td>0</td>\n",
       "      <td>0</td>\n",
       "      <td>1</td>\n",
       "      <td>0</td>\n",
       "      <td>1</td>\n",
       "      <td>0</td>\n",
       "      <td>1</td>\n",
       "      <td>0</td>\n",
       "      <td>0</td>\n",
       "    </tr>\n",
       "    <tr>\n",
       "      <td>2</td>\n",
       "      <td>1</td>\n",
       "      <td>3</td>\n",
       "      <td>26.0</td>\n",
       "      <td>0</td>\n",
       "      <td>0</td>\n",
       "      <td>1</td>\n",
       "      <td>7.9250</td>\n",
       "      <td>0</td>\n",
       "      <td>0</td>\n",
       "      <td>1</td>\n",
       "      <td>0</td>\n",
       "      <td>0</td>\n",
       "      <td>0</td>\n",
       "      <td>1</td>\n",
       "      <td>0</td>\n",
       "      <td>0</td>\n",
       "      <td>0</td>\n",
       "      <td>1</td>\n",
       "    </tr>\n",
       "    <tr>\n",
       "      <td>3</td>\n",
       "      <td>1</td>\n",
       "      <td>1</td>\n",
       "      <td>35.0</td>\n",
       "      <td>1</td>\n",
       "      <td>0</td>\n",
       "      <td>2</td>\n",
       "      <td>53.1000</td>\n",
       "      <td>1</td>\n",
       "      <td>0</td>\n",
       "      <td>0</td>\n",
       "      <td>0</td>\n",
       "      <td>1</td>\n",
       "      <td>0</td>\n",
       "      <td>1</td>\n",
       "      <td>0</td>\n",
       "      <td>0</td>\n",
       "      <td>0</td>\n",
       "      <td>1</td>\n",
       "    </tr>\n",
       "    <tr>\n",
       "      <td>4</td>\n",
       "      <td>0</td>\n",
       "      <td>3</td>\n",
       "      <td>35.0</td>\n",
       "      <td>0</td>\n",
       "      <td>0</td>\n",
       "      <td>1</td>\n",
       "      <td>8.0500</td>\n",
       "      <td>0</td>\n",
       "      <td>0</td>\n",
       "      <td>0</td>\n",
       "      <td>1</td>\n",
       "      <td>0</td>\n",
       "      <td>0</td>\n",
       "      <td>0</td>\n",
       "      <td>1</td>\n",
       "      <td>0</td>\n",
       "      <td>0</td>\n",
       "      <td>1</td>\n",
       "    </tr>\n",
       "  </tbody>\n",
       "</table>\n",
       "</div>"
      ],
      "text/plain": [
       "   Survived  Pclass   Age  SibSp  Parch  FamilySize     Fare  Cabin  \\\n",
       "0         0       3  22.0      1      0           2   7.2500      0   \n",
       "1         1       1  38.0      1      0           2  71.2833      1   \n",
       "2         1       3  26.0      0      0           1   7.9250      0   \n",
       "3         1       1  35.0      1      0           2  53.1000      1   \n",
       "4         0       3  35.0      0      0           1   8.0500      0   \n",
       "\n",
       "   Title_Master  Title_Miss  Title_Mr  Title_Mrs  Title_Rare  Sex_female  \\\n",
       "0             0           0         1          0           0           0   \n",
       "1             0           0         0          1           0           1   \n",
       "2             0           1         0          0           0           1   \n",
       "3             0           0         0          1           0           1   \n",
       "4             0           0         1          0           0           0   \n",
       "\n",
       "   Sex_male  Embarked_C  Embarked_Q  Embarked_S  \n",
       "0         1           0           0           1  \n",
       "1         0           1           0           0  \n",
       "2         0           0           0           1  \n",
       "3         0           0           0           1  \n",
       "4         1           0           0           1  "
      ]
     },
     "execution_count": 3,
     "metadata": {},
     "output_type": "execute_result"
    }
   ],
   "source": [
    "df = pd.read_csv(url)\n",
    "df_dummy = pd.get_dummies(df)\n",
    "df_dummy.head()"
   ]
  },
  {
   "cell_type": "markdown",
   "metadata": {
    "colab_type": "text",
    "id": "cJTB20kcwUre"
   },
   "source": [
    "### Split training data and  test data "
   ]
  },
  {
   "cell_type": "code",
   "execution_count": 4,
   "metadata": {
    "colab": {
     "base_uri": "https://localhost:8080/",
     "height": 34
    },
    "colab_type": "code",
    "executionInfo": {
     "elapsed": 4234,
     "status": "ok",
     "timestamp": 1586149283472,
     "user": {
      "displayName": "Janjao Mongkolnavin",
      "photoUrl": "https://lh3.googleusercontent.com/a-/AOh14GiStv0UVXFLFMWLs8gKXXXHSKXF7YyRDI9t67DBRQ=s64",
      "userId": "04965209409184054695"
     },
     "user_tz": -420
    },
    "id": "U2cmYJpLwUrf",
    "outputId": "d1837a7c-f059-4597-93fd-cfd33bfb180f"
   },
   "outputs": [
    {
     "name": "stdout",
     "output_type": "stream",
     "text": [
      "training set = 712 records, test set= 179 records\n"
     ]
    }
   ],
   "source": [
    "from sklearn.model_selection import train_test_split\n",
    "\n",
    "outcomename = 'Survived'\n",
    "X = df_dummy.drop(columns = outcomename)\n",
    "Y = df_dummy[outcomename]\n",
    "\n",
    "featurename = X.columns\n",
    "outcome_value = [\"0\",\"1\"]\n",
    "\n",
    "X_train, X_test, y_train, y_test = train_test_split( X, Y, test_size = 0.2, random_state = 1234,stratify = Y)\n",
    "print('training set = {} records, test set= {} records'.format(X_train.shape[0],X_test.shape[0]))"
   ]
  },
  {
   "cell_type": "markdown",
   "metadata": {
    "colab_type": "text",
    "id": "SuSAzw2TwUrl"
   },
   "source": [
    "### StandardScaler (Z-score)\n"
   ]
  },
  {
   "cell_type": "code",
   "execution_count": 5,
   "metadata": {
    "colab": {},
    "colab_type": "code",
    "id": "ccS9dg6UwUrm"
   },
   "outputs": [],
   "source": [
    "from sklearn.preprocessing import StandardScaler  \n",
    "scaler = StandardScaler()  \n",
    "scaler.fit(X_train)\n",
    "\n",
    "X_train_scal = scaler.transform(X_train)  \n",
    "X_test_scal = scaler.transform(X_test)\n",
    "\n",
    "X_train_scal = pd.DataFrame(data=X_train_scal, index=X_train.index, columns=X_train.columns)\n",
    "X_test_scal = pd.DataFrame(data=X_test_scal, index=X_test.index, columns=X_test.columns)"
   ]
  },
  {
   "cell_type": "markdown",
   "metadata": {
    "colab_type": "text",
    "id": "upeiwghLwUrq"
   },
   "source": [
    "***\n",
    "# <center><font color=purple> Neural Network</font></center>"
   ]
  },
  {
   "cell_type": "markdown",
   "metadata": {
    "colab_type": "text",
    "id": "wXT4jGb-wUrr"
   },
   "source": [
    "### Import libraries\n",
    "\n",
    "__Keras__ is a high-level neural networks API, written in Python and capable of running on top of TensorFlow, CNTK, or Theano. It was developed with a focus on enabling fast experimentation."
   ]
  },
  {
   "cell_type": "code",
   "execution_count": 6,
   "metadata": {
    "colab": {
     "base_uri": "https://localhost:8080/",
     "height": 34
    },
    "colab_type": "code",
    "executionInfo": {
     "elapsed": 1273,
     "status": "ok",
     "timestamp": 1586145441294,
     "user": {
      "displayName": "Janjao Mongkolnavin",
      "photoUrl": "https://lh3.googleusercontent.com/a-/AOh14GiStv0UVXFLFMWLs8gKXXXHSKXF7YyRDI9t67DBRQ=s64",
      "userId": "04965209409184054695"
     },
     "user_tz": -420
    },
    "id": "dLzq9JNRb-wM",
    "outputId": "87769ab1-1194-4dc4-bb12-c8fa665212b0"
   },
   "outputs": [
    {
     "name": "stderr",
     "output_type": "stream",
     "text": [
      "UsageError: Line magic function `%tensorflow_version` not found.\n"
     ]
    }
   ],
   "source": [
    "%tensorflow_version 1.x"
   ]
  },
  {
   "cell_type": "code",
   "execution_count": null,
   "metadata": {
    "colab": {
     "base_uri": "https://localhost:8080/",
     "height": 34
    },
    "colab_type": "code",
    "executionInfo": {
     "elapsed": 1474,
     "status": "ok",
     "timestamp": 1586149492167,
     "user": {
      "displayName": "Janjao Mongkolnavin",
      "photoUrl": "https://lh3.googleusercontent.com/a-/AOh14GiStv0UVXFLFMWLs8gKXXXHSKXF7YyRDI9t67DBRQ=s64",
      "userId": "04965209409184054695"
     },
     "user_tz": -420
    },
    "id": "eo1UwwlAcA_E",
    "outputId": "d277d89d-991b-4b43-8ba3-38e0fcdde249"
   },
   "outputs": [],
   "source": [
    "import tensorflow\n",
    "print(tensorflow.__version__)"
   ]
  },
  {
   "cell_type": "code",
   "execution_count": null,
   "metadata": {
    "colab": {
     "base_uri": "https://localhost:8080/",
     "height": 172
    },
    "colab_type": "code",
    "executionInfo": {
     "elapsed": 6283,
     "status": "ok",
     "timestamp": 1586149505164,
     "user": {
      "displayName": "Janjao Mongkolnavin",
      "photoUrl": "https://lh3.googleusercontent.com/a-/AOh14GiStv0UVXFLFMWLs8gKXXXHSKXF7YyRDI9t67DBRQ=s64",
      "userId": "04965209409184054695"
     },
     "user_tz": -420
    },
    "id": "p34_acMOwl0P",
    "outputId": "e2904843-34f7-4b96-c67e-fa59f1911931"
   },
   "outputs": [],
   "source": [
    "! pip install keras_metrics"
   ]
  },
  {
   "cell_type": "code",
   "execution_count": null,
   "metadata": {
    "colab": {},
    "colab_type": "code",
    "id": "YjLkSYjhwUrs"
   },
   "outputs": [],
   "source": [
    "from keras.models import Sequential\n",
    "from keras.layers import Dense, Activation\n",
    "import keras_metrics as eval_matrics\n",
    "from tensorflow import set_random_seed\n",
    "from numpy.random import seed"
   ]
  },
  {
   "cell_type": "markdown",
   "metadata": {
    "colab_type": "text",
    "id": "zDj5JS43wUr4"
   },
   "source": [
    "### Set random seed "
   ]
  },
  {
   "cell_type": "code",
   "execution_count": null,
   "metadata": {
    "colab": {},
    "colab_type": "code",
    "id": "SE4NSpq8wUr5"
   },
   "outputs": [],
   "source": [
    "seed(1043)\n",
    "set_random_seed(1043)"
   ]
  },
  {
   "cell_type": "markdown",
   "metadata": {
    "colab_type": "text",
    "id": "amoUqab8wUsA"
   },
   "source": [
    "### Model config"
   ]
  },
  {
   "cell_type": "markdown",
   "metadata": {
    "colab_type": "text",
    "id": "zaVZ7gzgwUsB"
   },
   "source": [
    "- __activations__ : softmax, relu, tanh, sigmoid\n",
    "- __loss functions__ : binary_crossentropy, mean_squared_error\n",
    "- __optimizer__: SGD, RMSprop, Adam"
   ]
  },
  {
   "cell_type": "code",
   "execution_count": null,
   "metadata": {
    "colab": {},
    "colab_type": "code",
    "id": "Y6SR6Qe4wUsD"
   },
   "outputs": [],
   "source": [
    "input_dims = X_train.shape[1]\n",
    "output_dims = 1\n",
    "\n",
    "first_layer_node = 8\n",
    "second_layer_node = 8\n",
    "\n",
    "activation_f = 'relu'\n",
    "activation_output = 'sigmoid'\n",
    "\n",
    "optimizer = 'Adam'\n",
    "loss_function = 'binary_crossentropy'\n",
    "eva_matrics = ['accuracy', eval_matrics.binary_precision(), eval_matrics.binary_recall()]"
   ]
  },
  {
   "cell_type": "markdown",
   "metadata": {
    "colab_type": "text",
    "id": "_oUyfspJwUsN"
   },
   "source": [
    "### Build model"
   ]
  },
  {
   "cell_type": "code",
   "execution_count": null,
   "metadata": {
    "colab": {
     "base_uri": "https://localhost:8080/",
     "height": 258
    },
    "colab_type": "code",
    "executionInfo": {
     "elapsed": 1285,
     "status": "ok",
     "timestamp": 1586149530628,
     "user": {
      "displayName": "Janjao Mongkolnavin",
      "photoUrl": "https://lh3.googleusercontent.com/a-/AOh14GiStv0UVXFLFMWLs8gKXXXHSKXF7YyRDI9t67DBRQ=s64",
      "userId": "04965209409184054695"
     },
     "user_tz": -420
    },
    "id": "VrDgf4TPwUsO",
    "outputId": "89015714-deb7-4be8-90d5-25a59460b2d7"
   },
   "outputs": [],
   "source": [
    "model = Sequential()\n",
    "model.add(Dense(first_layer_node, input_dim = input_dims , activation = activation_f))\n",
    "model.add(Dense(second_layer_node, activation = activation_f))\n",
    "model.add(Dense(output_dims, activation = activation_output))\n",
    "\n",
    "model.compile(loss= loss_function, optimizer = optimizer, metrics= eva_matrics) \n",
    "model.summary()"
   ]
  },
  {
   "cell_type": "markdown",
   "metadata": {
    "colab_type": "text",
    "id": "5wxjpRywwUsZ"
   },
   "source": [
    "### Train Model"
   ]
  },
  {
   "cell_type": "markdown",
   "metadata": {
    "colab_type": "text",
    "id": "MCRN9kDswUsd"
   },
   "source": [
    "- __Epoch__ : a single step in training a neural network; One Epoch is when an entire dataset is passed forward through the neural network.\n",
    "- __Batch Size__ : Total number of training examples pass into the neural net at once.\n",
    "- __Verbose__ : Show the training progress for each epoch. (0 : nothing, 1: show process with animated progress bar , 2 :show process without animated progress bar \n",
    "\n"
   ]
  },
  {
   "cell_type": "code",
   "execution_count": null,
   "metadata": {
    "colab": {
     "base_uri": "https://localhost:8080/",
     "height": 1000
    },
    "colab_type": "code",
    "executionInfo": {
     "elapsed": 30544,
     "status": "ok",
     "timestamp": 1586149566828,
     "user": {
      "displayName": "Janjao Mongkolnavin",
      "photoUrl": "https://lh3.googleusercontent.com/a-/AOh14GiStv0UVXFLFMWLs8gKXXXHSKXF7YyRDI9t67DBRQ=s64",
      "userId": "04965209409184054695"
     },
     "user_tz": -420
    },
    "id": "h9-WUjv0wUse",
    "outputId": "3a3a8446-3db8-4f9c-f224-7a2bdfd12872"
   },
   "outputs": [],
   "source": [
    "epochs = 200\n",
    "batch_size = 10 \n",
    "nn = model.fit(X_train, y_train, validation_data=(X_test,y_test), epochs=epochs, batch_size=batch_size, verbose=1)"
   ]
  },
  {
   "cell_type": "markdown",
   "metadata": {
    "colab_type": "text",
    "id": "8hvc-kP7wUsh"
   },
   "source": [
    "### Prediction "
   ]
  },
  {
   "cell_type": "code",
   "execution_count": null,
   "metadata": {
    "colab": {
     "base_uri": "https://localhost:8080/",
     "height": 51
    },
    "colab_type": "code",
    "executionInfo": {
     "elapsed": 13272,
     "status": "ok",
     "timestamp": 1586149716135,
     "user": {
      "displayName": "Janjao Mongkolnavin",
      "photoUrl": "https://lh3.googleusercontent.com/a-/AOh14GiStv0UVXFLFMWLs8gKXXXHSKXF7YyRDI9t67DBRQ=s64",
      "userId": "04965209409184054695"
     },
     "user_tz": -420
    },
    "id": "RTtTZXvIwUsh",
    "outputId": "9d9fc3be-df2a-4aae-8197-b6d3555de277"
   },
   "outputs": [],
   "source": [
    "nn_pred_train = np.ravel(model.predict_classes(X_train))\n",
    "nn_pred_test = np.ravel(model.predict_classes(X_test))\n",
    "\n",
    "print('Target classes of the first five rows are {}'.format(y_test.values[0:5]))\n",
    "print('Predicted classes of the first five rows are {}'.format(nn_pred_test[0:5]))"
   ]
  },
  {
   "cell_type": "markdown",
   "metadata": {
    "colab_type": "text",
    "id": "iHTgtphhwUsl"
   },
   "source": [
    "### Evaluation "
   ]
  },
  {
   "cell_type": "code",
   "execution_count": null,
   "metadata": {
    "colab": {},
    "colab_type": "code",
    "id": "6MGv3It-wUsm"
   },
   "outputs": [],
   "source": [
    "from sklearn.metrics import confusion_matrix, accuracy_score, balanced_accuracy_score, classification_report, precision_score, recall_score"
   ]
  },
  {
   "cell_type": "code",
   "execution_count": null,
   "metadata": {
    "colab": {},
    "colab_type": "code",
    "id": "WxTy_tj2wUsn"
   },
   "outputs": [],
   "source": [
    "def cm_plot(cm):\n",
    "    plt.clf()\n",
    "    plt.imshow(cm, interpolation='nearest', cmap=plt.cm.coolwarm)\n",
    "    classNames = ['Not Survived','Survived']\n",
    "    plt.title('Confusion Matrix')\n",
    "    plt.ylabel('True label')\n",
    "    plt.xlabel('Predicted label')\n",
    "    tick_marks = np.arange(len(classNames))\n",
    "    plt.xticks(tick_marks, classNames, rotation=45)\n",
    "    plt.yticks(tick_marks, classNames)\n",
    "    s = [['TN','FP'], ['FN', 'TP']]\n",
    "    plt.grid(None)\n",
    "    plt.rcParams.update({'font.size': 10})\n",
    "    plt.rcParams[\"font.weight\"] = \"bold\"\n",
    "    for i in range(2):\n",
    "        for j in range(2):\n",
    "            plt.text(j,i, str(s[i][j])+\" = \"+str(cm[i][j]))\n",
    "    plt.show()"
   ]
  },
  {
   "cell_type": "code",
   "execution_count": null,
   "metadata": {
    "colab": {},
    "colab_type": "code",
    "id": "2naf9-T3wUsp"
   },
   "outputs": [],
   "source": [
    "def plot_metrics(nn,metric):\n",
    "    plt.figure(figsize=(12, 6))  \n",
    "    plt.rcParams.update({'font.size': 12})\n",
    "    plt.plot(nn.history[metric])\n",
    "    plt.plot(nn.history['val_'+ metric])\n",
    "    plt.title('Model '+ metric)\n",
    "    plt.ylabel(metric)\n",
    "    plt.xlabel('epoch')\n",
    "    plt.legend(['train', 'test'], loc='lower right')\n",
    "    plt.show()"
   ]
  },
  {
   "cell_type": "code",
   "execution_count": null,
   "metadata": {
    "colab": {
     "base_uri": "https://localhost:8080/",
     "height": 411
    },
    "colab_type": "code",
    "executionInfo": {
     "elapsed": 10727,
     "status": "ok",
     "timestamp": 1586149817415,
     "user": {
      "displayName": "Janjao Mongkolnavin",
      "photoUrl": "https://lh3.googleusercontent.com/a-/AOh14GiStv0UVXFLFMWLs8gKXXXHSKXF7YyRDI9t67DBRQ=s64",
      "userId": "04965209409184054695"
     },
     "user_tz": -420
    },
    "id": "jb48IIRswUsr",
    "outputId": "d8095a99-67cd-474f-fed2-17feb88b355b"
   },
   "outputs": [],
   "source": [
    "plot_metrics(nn,'acc')"
   ]
  },
  {
   "cell_type": "code",
   "execution_count": null,
   "metadata": {
    "colab": {
     "base_uri": "https://localhost:8080/",
     "height": 411
    },
    "colab_type": "code",
    "executionInfo": {
     "elapsed": 1869,
     "status": "ok",
     "timestamp": 1586149822655,
     "user": {
      "displayName": "Janjao Mongkolnavin",
      "photoUrl": "https://lh3.googleusercontent.com/a-/AOh14GiStv0UVXFLFMWLs8gKXXXHSKXF7YyRDI9t67DBRQ=s64",
      "userId": "04965209409184054695"
     },
     "user_tz": -420
    },
    "id": "kcMu3-mNwUst",
    "outputId": "92e4b460-77be-48d0-d76c-e4d29a87193c"
   },
   "outputs": [],
   "source": [
    "plot_metrics(nn,'precision')"
   ]
  },
  {
   "cell_type": "code",
   "execution_count": null,
   "metadata": {
    "colab": {
     "base_uri": "https://localhost:8080/",
     "height": 411
    },
    "colab_type": "code",
    "executionInfo": {
     "elapsed": 4112,
     "status": "ok",
     "timestamp": 1586149834346,
     "user": {
      "displayName": "Janjao Mongkolnavin",
      "photoUrl": "https://lh3.googleusercontent.com/a-/AOh14GiStv0UVXFLFMWLs8gKXXXHSKXF7YyRDI9t67DBRQ=s64",
      "userId": "04965209409184054695"
     },
     "user_tz": -420
    },
    "id": "S8PB7znHwUsv",
    "outputId": "5afb74dd-6594-49d4-b609-1e092f26b808"
   },
   "outputs": [],
   "source": [
    "plot_metrics(nn,'recall')"
   ]
  },
  {
   "cell_type": "code",
   "execution_count": null,
   "metadata": {
    "colab": {
     "base_uri": "https://localhost:8080/",
     "height": 568
    },
    "colab_type": "code",
    "executionInfo": {
     "elapsed": 2505,
     "status": "ok",
     "timestamp": 1586149840247,
     "user": {
      "displayName": "Janjao Mongkolnavin",
      "photoUrl": "https://lh3.googleusercontent.com/a-/AOh14GiStv0UVXFLFMWLs8gKXXXHSKXF7YyRDI9t67DBRQ=s64",
      "userId": "04965209409184054695"
     },
     "user_tz": -420
    },
    "id": "oOxslQmswUsy",
    "outputId": "074e24ab-dbe5-49fc-a0f8-8c6f29622237"
   },
   "outputs": [],
   "source": [
    "test_acc = accuracy_score(y_test,nn_pred_test)*100\n",
    "test_bl_acc = balanced_accuracy_score(y_test,nn_pred_test)*100\n",
    "test_cm = confusion_matrix(y_test,nn_pred_test)\n",
    "test_report = classification_report(y_test,nn_pred_test)\n",
    "\n",
    "print(\"Test set | Accuracy is\", test_acc)\n",
    "print(\"Test set | Balance Accuracy is\", test_bl_acc)\n",
    "print(\"\")\n",
    "cm_plot(test_cm)\n",
    "print(test_report)"
   ]
  },
  {
   "cell_type": "markdown",
   "metadata": {
    "colab_type": "text",
    "id": "FjAvIHr2jaR0"
   },
   "source": [
    "### **Test NN On Scaled Data**"
   ]
  },
  {
   "cell_type": "code",
   "execution_count": null,
   "metadata": {
    "colab": {
     "base_uri": "https://localhost:8080/",
     "height": 1000
    },
    "colab_type": "code",
    "executionInfo": {
     "elapsed": 1337,
     "status": "ok",
     "timestamp": 1586149978075,
     "user": {
      "displayName": "Janjao Mongkolnavin",
      "photoUrl": "https://lh3.googleusercontent.com/a-/AOh14GiStv0UVXFLFMWLs8gKXXXHSKXF7YyRDI9t67DBRQ=s64",
      "userId": "04965209409184054695"
     },
     "user_tz": -420
    },
    "id": "5OMSeWObjen5",
    "outputId": "05c1b6b8-03db-4588-a2e5-87dbf26518cb"
   },
   "outputs": [],
   "source": [
    "nn_scal = model.fit(X_train_scal, y_train, validation_data=(X_test_scal,y_test), epochs=200, batch_size=batch_size, verbose=1)"
   ]
  },
  {
   "cell_type": "code",
   "execution_count": null,
   "metadata": {
    "colab": {
     "base_uri": "https://localhost:8080/",
     "height": 411
    },
    "colab_type": "code",
    "executionInfo": {
     "elapsed": 3312,
     "status": "ok",
     "timestamp": 1586150028969,
     "user": {
      "displayName": "Janjao Mongkolnavin",
      "photoUrl": "https://lh3.googleusercontent.com/a-/AOh14GiStv0UVXFLFMWLs8gKXXXHSKXF7YyRDI9t67DBRQ=s64",
      "userId": "04965209409184054695"
     },
     "user_tz": -420
    },
    "id": "OD1wI-sxkGKa",
    "outputId": "3e870b99-eaa8-4150-c4d0-1d524556007e"
   },
   "outputs": [],
   "source": [
    "plot_metrics(nn_scal,'acc')"
   ]
  },
  {
   "cell_type": "code",
   "execution_count": null,
   "metadata": {
    "colab": {
     "base_uri": "https://localhost:8080/",
     "height": 411
    },
    "colab_type": "code",
    "executionInfo": {
     "elapsed": 3479,
     "status": "ok",
     "timestamp": 1586150039475,
     "user": {
      "displayName": "Janjao Mongkolnavin",
      "photoUrl": "https://lh3.googleusercontent.com/a-/AOh14GiStv0UVXFLFMWLs8gKXXXHSKXF7YyRDI9t67DBRQ=s64",
      "userId": "04965209409184054695"
     },
     "user_tz": -420
    },
    "id": "O23cq3i9kZKC",
    "outputId": "93fbcbe6-5f07-49e4-a2db-e5288b4fc3ca"
   },
   "outputs": [],
   "source": [
    "plot_metrics(nn_scal,'precision')"
   ]
  },
  {
   "cell_type": "code",
   "execution_count": null,
   "metadata": {
    "colab": {
     "base_uri": "https://localhost:8080/",
     "height": 411
    },
    "colab_type": "code",
    "executionInfo": {
     "elapsed": 3892,
     "status": "ok",
     "timestamp": 1586150048268,
     "user": {
      "displayName": "Janjao Mongkolnavin",
      "photoUrl": "https://lh3.googleusercontent.com/a-/AOh14GiStv0UVXFLFMWLs8gKXXXHSKXF7YyRDI9t67DBRQ=s64",
      "userId": "04965209409184054695"
     },
     "user_tz": -420
    },
    "id": "wRFnRYzKkniV",
    "outputId": "43248691-7745-45a7-85d7-72377cabc00a"
   },
   "outputs": [],
   "source": [
    "plot_metrics(nn_scal,'recall')"
   ]
  },
  {
   "cell_type": "code",
   "execution_count": null,
   "metadata": {
    "colab": {
     "base_uri": "https://localhost:8080/",
     "height": 602
    },
    "colab_type": "code",
    "executionInfo": {
     "elapsed": 4195,
     "status": "ok",
     "timestamp": 1586150194002,
     "user": {
      "displayName": "Janjao Mongkolnavin",
      "photoUrl": "https://lh3.googleusercontent.com/a-/AOh14GiStv0UVXFLFMWLs8gKXXXHSKXF7YyRDI9t67DBRQ=s64",
      "userId": "04965209409184054695"
     },
     "user_tz": -420
    },
    "id": "dndFdJGJk2FT",
    "outputId": "0e235c00-e66c-48fb-914f-d24366a60084"
   },
   "outputs": [],
   "source": [
    "nn_pred_train = np.ravel(model.predict_classes(X_train_scal))\n",
    "nn_pred_test = np.ravel(model.predict_classes(X_test_scal))\n",
    "\n",
    "print('Target classes of the first five rows are {}'.format(y_test.values[0:5]))\n",
    "print('Predicted classes of the first five rows are {}'.format(nn_pred_test[0:5]))\n",
    "\n",
    "test_acc = accuracy_score(y_test,nn_pred_test)*100\n",
    "test_bl_acc = balanced_accuracy_score(y_test,nn_pred_test)*100\n",
    "test_cm = confusion_matrix(y_test,nn_pred_test)\n",
    "test_report = classification_report(y_test,nn_pred_test)\n",
    "\n",
    "print(\"Test set | Accuracy is\", test_acc)\n",
    "print(\"Test set | Balance Accuracy is\", test_bl_acc)\n",
    "print(\"\")\n",
    "cm_plot(test_cm)\n",
    "print(test_report)"
   ]
  },
  {
   "cell_type": "markdown",
   "metadata": {
    "colab_type": "text",
    "id": "1nV7Q1A_rnFx"
   },
   "source": [
    "### Test NN on Scal Data with Separate Topology"
   ]
  },
  {
   "cell_type": "code",
   "execution_count": null,
   "metadata": {
    "colab": {},
    "colab_type": "code",
    "id": "-r4mBqSsyP6x"
   },
   "outputs": [],
   "source": [
    "input_dims = X_train.shape[1]\n",
    "output_dims = 1\n",
    "\n",
    "first_layer_node = 8\n",
    "second_layer_node = 8\n",
    "\n",
    "activation_f = 'relu'\n",
    "activation_output = 'sigmoid'\n",
    "\n",
    "optimizer = 'Adam'\n",
    "loss_function = 'binary_crossentropy'\n",
    "eva_matrics = ['accuracy', eval_matrics.binary_precision(), eval_matrics.binary_recall()]"
   ]
  },
  {
   "cell_type": "code",
   "execution_count": null,
   "metadata": {
    "colab": {
     "base_uri": "https://localhost:8080/",
     "height": 258
    },
    "colab_type": "code",
    "executionInfo": {
     "elapsed": 4227,
     "status": "ok",
     "timestamp": 1586151391798,
     "user": {
      "displayName": "Janjao Mongkolnavin",
      "photoUrl": "https://lh3.googleusercontent.com/a-/AOh14GiStv0UVXFLFMWLs8gKXXXHSKXF7YyRDI9t67DBRQ=s64",
      "userId": "04965209409184054695"
     },
     "user_tz": -420
    },
    "id": "nFTxMDcvrmgb",
    "outputId": "3aec39e6-8fba-4422-ee67-d3742e737878"
   },
   "outputs": [],
   "source": [
    "model = Sequential()\n",
    "model.add(Dense(first_layer_node, input_dim = input_dims , activation = activation_f))\n",
    "model.add(Dense(second_layer_node, activation = activation_f))\n",
    "model.add(Dense(output_dims, activation = activation_output))\n",
    "\n",
    "model.compile(loss= loss_function, optimizer = optimizer, metrics= eva_matrics) \n",
    "model.summary()"
   ]
  },
  {
   "cell_type": "code",
   "execution_count": null,
   "metadata": {
    "colab": {
     "base_uri": "https://localhost:8080/",
     "height": 743
    },
    "colab_type": "code",
    "executionInfo": {
     "elapsed": 7599,
     "status": "ok",
     "timestamp": 1586151411884,
     "user": {
      "displayName": "Janjao Mongkolnavin",
      "photoUrl": "https://lh3.googleusercontent.com/a-/AOh14GiStv0UVXFLFMWLs8gKXXXHSKXF7YyRDI9t67DBRQ=s64",
      "userId": "04965209409184054695"
     },
     "user_tz": -420
    },
    "id": "kuBVmkJLsNqe",
    "outputId": "e8fd6acf-4b8b-4e6f-e53e-245000733e4c"
   },
   "outputs": [],
   "source": [
    "nn_scal = model.fit(X_train_scal, y_train, validation_data=(X_test_scal,y_test), epochs=20, batch_size=batch_size, verbose=1)"
   ]
  },
  {
   "cell_type": "code",
   "execution_count": null,
   "metadata": {
    "colab": {
     "base_uri": "https://localhost:8080/",
     "height": 411
    },
    "colab_type": "code",
    "executionInfo": {
     "elapsed": 1946,
     "status": "ok",
     "timestamp": 1586151432195,
     "user": {
      "displayName": "Janjao Mongkolnavin",
      "photoUrl": "https://lh3.googleusercontent.com/a-/AOh14GiStv0UVXFLFMWLs8gKXXXHSKXF7YyRDI9t67DBRQ=s64",
      "userId": "04965209409184054695"
     },
     "user_tz": -420
    },
    "id": "-bIMDmB92Sci",
    "outputId": "f53b3e99-9940-4aa1-d0b1-00eb902aec50"
   },
   "outputs": [],
   "source": [
    "plot_metrics(nn_scal,'acc')"
   ]
  },
  {
   "cell_type": "code",
   "execution_count": null,
   "metadata": {
    "colab": {
     "base_uri": "https://localhost:8080/",
     "height": 411
    },
    "colab_type": "code",
    "executionInfo": {
     "elapsed": 2133,
     "status": "ok",
     "timestamp": 1586151452083,
     "user": {
      "displayName": "Janjao Mongkolnavin",
      "photoUrl": "https://lh3.googleusercontent.com/a-/AOh14GiStv0UVXFLFMWLs8gKXXXHSKXF7YyRDI9t67DBRQ=s64",
      "userId": "04965209409184054695"
     },
     "user_tz": -420
    },
    "id": "z23Et0hW2ZSB",
    "outputId": "00efa9b9-e825-4113-a41f-816356b8c0f6"
   },
   "outputs": [],
   "source": [
    "plot_metrics(nn_scal,'precision')"
   ]
  },
  {
   "cell_type": "code",
   "execution_count": null,
   "metadata": {
    "colab": {
     "base_uri": "https://localhost:8080/",
     "height": 411
    },
    "colab_type": "code",
    "executionInfo": {
     "elapsed": 1722,
     "status": "ok",
     "timestamp": 1586151461299,
     "user": {
      "displayName": "Janjao Mongkolnavin",
      "photoUrl": "https://lh3.googleusercontent.com/a-/AOh14GiStv0UVXFLFMWLs8gKXXXHSKXF7YyRDI9t67DBRQ=s64",
      "userId": "04965209409184054695"
     },
     "user_tz": -420
    },
    "id": "Z8pphe5H2eyr",
    "outputId": "c7036d18-c28f-4a6a-bf66-ff494f2c342a"
   },
   "outputs": [],
   "source": [
    "plot_metrics(nn_scal,'recall')"
   ]
  },
  {
   "cell_type": "code",
   "execution_count": null,
   "metadata": {
    "colab": {
     "base_uri": "https://localhost:8080/",
     "height": 602
    },
    "colab_type": "code",
    "executionInfo": {
     "elapsed": 1730,
     "status": "ok",
     "timestamp": 1586151475285,
     "user": {
      "displayName": "Janjao Mongkolnavin",
      "photoUrl": "https://lh3.googleusercontent.com/a-/AOh14GiStv0UVXFLFMWLs8gKXXXHSKXF7YyRDI9t67DBRQ=s64",
      "userId": "04965209409184054695"
     },
     "user_tz": -420
    },
    "id": "1ZK02qM92pJ0",
    "outputId": "9a68013e-0ec9-4b9a-e627-a4bdfe9c519e"
   },
   "outputs": [],
   "source": [
    "nn_pred_train = np.ravel(model.predict_classes(X_train_scal))\n",
    "nn_pred_test = np.ravel(model.predict_classes(X_test_scal))\n",
    "\n",
    "print('Target classes of the first five rows are {}'.format(y_test.values[0:5]))\n",
    "print('Predicted classes of the first five rows are {}'.format(nn_pred_test[0:5]))\n",
    "\n",
    "test_acc = accuracy_score(y_test,nn_pred_test)*100\n",
    "test_bl_acc = balanced_accuracy_score(y_test,nn_pred_test)*100\n",
    "test_cm = confusion_matrix(y_test,nn_pred_test)\n",
    "test_report = classification_report(y_test,nn_pred_test)\n",
    "\n",
    "print(\"Test set | Accuracy is\", test_acc)\n",
    "print(\"Test set | Balance Accuracy is\", test_bl_acc)\n",
    "print(\"\")\n",
    "cm_plot(test_cm)\n",
    "print(test_report)"
   ]
  }
 ],
 "metadata": {
  "colab": {
   "collapsed_sections": [],
   "name": "lab2 - NN.ipynb",
   "provenance": [
    {
     "file_id": "1-thLU39NgRgqlS5u84hfodTtxd5P-SXj",
     "timestamp": 1586151976559
    }
   ],
   "toc_visible": true
  },
  "kernelspec": {
   "display_name": "Python 3",
   "language": "python",
   "name": "python3"
  },
  "language_info": {
   "codemirror_mode": {
    "name": "ipython",
    "version": 3
   },
   "file_extension": ".py",
   "mimetype": "text/x-python",
   "name": "python",
   "nbconvert_exporter": "python",
   "pygments_lexer": "ipython3",
   "version": "3.7.4"
  }
 },
 "nbformat": 4,
 "nbformat_minor": 4
}
