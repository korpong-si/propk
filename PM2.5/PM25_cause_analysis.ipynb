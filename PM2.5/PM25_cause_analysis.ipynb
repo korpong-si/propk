{
 "cells": [
  {
   "cell_type": "markdown",
   "metadata": {
    "id": "30991il95puS"
   },
   "source": [
    "# ประเด็นศึกษา  \n",
    "\n",
    "เนื่องจากในช่วง 2 เดือนที่ผ่านมากระแสข่าวเรื่องฝุ่น pm 2.5 เป็นประเด็นที่ถูกนำมานำเสนออย่างมาก  \n",
    "แต่ในหลายๆแหล่งกับตั้งหัวเรื่องที่บอกสาเหตุของปัญหาฝุ่นที่ต่างออกไป  "
   ]
  },
  {
   "cell_type": "markdown",
   "metadata": {
    "id": "FaGvXigE5puT"
   },
   "source": [
    "จากภาพด้านล่างแสดงให้เห็นถึงสำนักข่าว โพสต์ูเดย์ระบุว่าในหัวข้อข่าวโดยตีความได้ว่า อุณหภูมิที่เย็นลงทำให้ฝุ่นเพิ่มขึ้น"
   ]
  },
  {
   "cell_type": "code",
   "execution_count": 1,
   "metadata": {
    "id": "ZgjLKIew5puT",
    "outputId": "0cf32cce-cb01-4532-f109-bda8ffc35385",
    "scrolled": true
   },
   "outputs": [
    {
     "data": {
      "text/html": [
       "\n",
       "        <iframe\n",
       "            width=\"500\"\n",
       "            height=\"400\"\n",
       "            src=\"https://www.posttoday.com/social/local/538980\"\n",
       "            frameborder=\"0\"\n",
       "            allowfullscreen\n",
       "        ></iframe>\n",
       "        "
      ],
      "text/plain": [
       "<IPython.lib.display.IFrame at 0x2073cc3c3d0>"
      ]
     },
     "execution_count": 1,
     "metadata": {},
     "output_type": "execute_result"
    }
   ],
   "source": [
    "from IPython.display import IFrame\n",
    "IFrame('https://www.posttoday.com/social/local/538980', width=500, height=400)"
   ]
  },
  {
   "cell_type": "markdown",
   "metadata": {
    "id": "dJcYJfuT5puV"
   },
   "source": [
    "โจทย์ของกลุ่มเราคือ อุณหภูมิที่เย็นลงทำให้ฝุ่นเพิ่มขึ้น จริงตามที่หัวข่าวบอกหรือไม่"
   ]
  },
  {
   "cell_type": "markdown",
   "metadata": {
    "id": "9JzXfBoP5puV"
   },
   "source": [
    "# Import modules ต่างๆ\n",
    "\n",
    "```python \n",
    "import pandas as pd #จัดการข้อมูลประเภท data frames\n",
    "```\n",
    "```python \n",
    "import numpy as np #จัดการข้อมูลในรูปแบบ array หลายมิติ ตัด out liers\n",
    "```\n",
    "```python \n",
    "import matplotlib #เป็นส่วนการแสดงผลในรูปแบบ visualization เพื่อ plot กราฟ\n",
    "```\n",
    "```python \n",
    "import matplotlib.pyplot #เป็นส่วนการแสดงผลในรูปแบบ visualization เพื่อ plot กราฟ\n",
    "```\n",
    "```python \n",
    "import seaborn #ใช้ในการ plot กราฟ\n",
    "```\n",
    "```python \n",
    "from scipy import stats #ใช้งานฟังก์ชันทางสถิติ\n",
    "```\n",
    "```python\n",
    "%matplotlib inline #ทำให้ matplotlib แสดงบน jupyter notebook ได้\n",
    "```\n",
    "```python \n",
    "%config InlineBackend.figure_format = 'retina' #เพื่อให้การแสดงผลของกราฟ แบบความละเอียดสูง\n",
    "```\n",
    "```python\n",
    "import ipywidgets as widgets #สร้ง widget\n",
    "```"
   ]
  },
  {
   "cell_type": "code",
   "execution_count": 2,
   "metadata": {
    "id": "MmBMvI-a5puW"
   },
   "outputs": [],
   "source": [
    "import pandas as pd\n",
    "import numpy as np\n",
    "import matplotlib\n",
    "import matplotlib.pyplot as plt\n",
    "import seaborn as sns\n",
    "import matplotlib.ticker\n",
    "from scipy import stats\n",
    "%matplotlib inline\n",
    "%config InlineBackend.figure_format = 'retina'\n",
    "import ipywidgets as widgets"
   ]
  },
  {
   "cell_type": "code",
   "execution_count": 3,
   "metadata": {
    "id": "WrYewZf85puX",
    "outputId": "7dd31c05-b873-4790-c751-83a811c895da"
   },
   "outputs": [
    {
     "name": "stdout",
     "output_type": "stream",
     "text": [
      "pandas version : 1.2.1\n",
      "seaborn version : 0.11.1\n"
     ]
    }
   ],
   "source": [
    "print(f'pandas version : {pd.__version__}')\n",
    "print(f'seaborn version : {sns.__version__}')"
   ]
  },
  {
   "cell_type": "code",
   "execution_count": 4,
   "metadata": {
    "id": "5tUohOS65puX",
    "outputId": "b86c0bdd-cd14-4651-9b6c-8c8b960633a3"
   },
   "outputs": [
    {
     "data": {
      "text/plain": [
       "Timestamp('2021-04-25 00:43:56.545048')"
      ]
     },
     "execution_count": 4,
     "metadata": {},
     "output_type": "execute_result"
    }
   ],
   "source": [
    "pd.Timestamp.now()"
   ]
  },
  {
   "cell_type": "markdown",
   "metadata": {
    "id": "trh8XeR15puX"
   },
   "source": [
    "# กำหนด url ที่มาของข้อมูล  \n",
    "\n",
    "โดยไฟล์ข้อมูลค่า  \n",
    "   - PM 2.5 นำมาจาก berkeleyearth โดยวัดที่ศาลาว่าการกรุงเทพ  \n",
    "   - สภาพอากาศ นำมาจาก https://www.wunderground.com/ โดยวัดที่โรงเรียนสาธิตจุฬาลงกรณ์มหาวิทยาลัย  \n",
    "\n",
    "เพื่อง่ายต่อการทำงานจึงได้นำข้อมูลไปเก็บไว้ใน github"
   ]
  },
  {
   "cell_type": "code",
   "execution_count": 20,
   "metadata": {
    "id": "GScRvA3w5puY"
   },
   "outputs": [],
   "source": [
    "url_weather = 'https://raw.githubusercontent.com/korpong-si/propk/master/PM2.5/weather_pm25.csv'"
   ]
  },
  {
   "cell_type": "code",
   "execution_count": 6,
   "metadata": {
    "id": "vbRJ0pge5puY"
   },
   "outputs": [],
   "source": [
    "url_pm = 'http://berkeleyearth.lbl.gov/air-quality/maps/cities/Thailand/Bangkok/Bangkok.txt'"
   ]
  },
  {
   "cell_type": "markdown",
   "metadata": {
    "id": "fEbFleQY5puY",
    "toc-hr-collapsed": true
   },
   "source": [
    "# ข้อมูลสภาพอากาศ"
   ]
  },
  {
   "cell_type": "markdown",
   "metadata": {
    "id": "spAEempu5puY"
   },
   "source": [
    "#### สร้าง dataframe จาก url_pm"
   ]
  },
  {
   "cell_type": "code",
   "execution_count": 7,
   "metadata": {
    "id": "Deg9-KWX5puY"
   },
   "outputs": [],
   "source": [
    "df_weather = pd.read_csv(url_weather, sep=',',parse_dates = [0])"
   ]
  },
  {
   "cell_type": "markdown",
   "metadata": {
    "id": "qkwt9mGp5puZ"
   },
   "source": [
    "#### ลบ column 'Precip. Accum.' ออก"
   ]
  },
  {
   "cell_type": "code",
   "execution_count": 8,
   "metadata": {
    "id": "YHEva7Di5puZ"
   },
   "outputs": [],
   "source": [
    "df_weather = df_weather.drop(columns = 'Precip. Accum.')"
   ]
  },
  {
   "cell_type": "markdown",
   "metadata": {
    "id": "KKMNCewk5puZ"
   },
   "source": [
    "#### เอา column ที่มีค่า NA ออก"
   ]
  },
  {
   "cell_type": "code",
   "execution_count": 9,
   "metadata": {
    "id": "47MUZZ3e5puZ"
   },
   "outputs": [],
   "source": [
    "df_weather.dropna(inplace = True)"
   ]
  },
  {
   "cell_type": "markdown",
   "metadata": {
    "id": "zjLynMsu5puZ"
   },
   "source": [
    "#### กำหนดให้ column 'Date' เป็น index"
   ]
  },
  {
   "cell_type": "code",
   "execution_count": 10,
   "metadata": {
    "id": "uHjJ3SfJ5puZ"
   },
   "outputs": [],
   "source": [
    "df_weather.set_index('Date', inplace = True)"
   ]
  },
  {
   "cell_type": "markdown",
   "metadata": {
    "id": "G7QeCdXR5pua"
   },
   "source": [
    "#### แปลงหน่วย"
   ]
  },
  {
   "cell_type": "code",
   "execution_count": 11,
   "metadata": {
    "id": "vOAC4ZeC5pua"
   },
   "outputs": [],
   "source": [
    "df_weather['Temperature Avg (C)'] = ((df_weather['Temperature Avg (F)']-32)*5/9).round(2)\n",
    "df_weather['Dew Point Avg (C)'] = ((df_weather['Dew Point Avg (F)']-32)*5/9).round(2)\n",
    "df_weather['Wind Speed Avg (kmph)'] = (df_weather['Speed Avg (mph)'] * 1.60934).round(2)\n",
    "df_weather['Pressure Avg (in)'] = df_weather['Pressure avg (in)']"
   ]
  },
  {
   "cell_type": "code",
   "execution_count": 12,
   "metadata": {
    "id": "tTF0JX_t5pua"
   },
   "outputs": [],
   "source": [
    "df_weather = df_weather.drop(columns = ['Temperature Avg (F)',\n",
    "                                        'Dew Point Avg (F)',\n",
    "                                        'Speed Avg (mph)',\n",
    "                                        'Pressure avg (in)'])"
   ]
  },
  {
   "cell_type": "markdown",
   "metadata": {
    "id": "_PPICVJa5pua"
   },
   "source": [
    "#### สลับตำแหน่ง columns"
   ]
  },
  {
   "cell_type": "code",
   "execution_count": 13,
   "metadata": {
    "id": "qyAjQ2pn5pua"
   },
   "outputs": [],
   "source": [
    "df_weather = df_weather.reindex(columns = ['Temperature Avg (C)',\n",
    "                                           'Dew Point Avg (C)',\n",
    "                                           'Wind Speed Avg (kmph)',\n",
    "                                           'Humidity Avg (%)',\n",
    "                                           'Pressure Avg (in)'])"
   ]
  },
  {
   "cell_type": "markdown",
   "metadata": {
    "id": "_VzvKifP5pub"
   },
   "source": [
    "#### box plot ก่อน clean ข้อมูล"
   ]
  },
  {
   "cell_type": "code",
   "execution_count": 14,
   "metadata": {
    "id": "Lg7TGatu5pub",
    "outputId": "7df66b83-0d33-43c7-b4c5-c4cabf148f60"
   },
   "outputs": [
    {
     "data": {
      "text/plain": [
       "Temperature Avg (C)         AxesSubplot(0.125,0.125;0.133621x0.755)\n",
       "Dew Point Avg (C)        AxesSubplot(0.285345,0.125;0.133621x0.755)\n",
       "Wind Speed Avg (kmph)     AxesSubplot(0.44569,0.125;0.133621x0.755)\n",
       "Humidity Avg (%)         AxesSubplot(0.606034,0.125;0.133621x0.755)\n",
       "Pressure Avg (in)        AxesSubplot(0.766379,0.125;0.133621x0.755)\n",
       "dtype: object"
      ]
     },
     "execution_count": 14,
     "metadata": {},
     "output_type": "execute_result"
    },
    {
     "data": {
      "image/png": "[encoded data removed]",
      "text/plain": [
       "<Figure size 720x360 with 5 Axes>"
      ]
     },
     "metadata": {
      "image/png": {
       "height": 302,
       "width": 601
      },
      "needs_background": "light"
     },
     "output_type": "display_data"
    }
   ],
   "source": [
    "df_weather.plot(kind = 'box',subplots = True, figsize = (10,5))"
   ]
  },
  {
   "cell_type": "markdown",
   "metadata": {
    "id": "Cw7vaXTS5pub"
   },
   "source": [
    "#### clean ข้อมูลด้วยวิธี IQR 'interquartile range'"
   ]
  },
  {
   "cell_type": "code",
   "execution_count": 15,
   "metadata": {
    "id": "1JkNwWND5pub"
   },
   "outputs": [],
   "source": [
    "Q1 = df_weather.quantile(0.25)\n",
    "Q3 = df_weather.quantile(0.75)\n",
    "IQR = Q3 - Q1"
   ]
  },
  {
   "cell_type": "code",
   "execution_count": 16,
   "metadata": {
    "id": "TM9NJRs25pub"
   },
   "outputs": [],
   "source": [
    "df_weather_clean = df_weather[~((df_weather < (Q1 -  3 * IQR)) |(df_weather > (Q3 + 3 * IQR))).any(axis=1)]"
   ]
  },
  {
   "cell_type": "markdown",
   "metadata": {
    "id": "dk4GsJDg5puc"
   },
   "source": [
    "#### box plot หลัง clean ข้อมูลแล้ว"
   ]
  },
  {
   "cell_type": "code",
   "execution_count": 17,
   "metadata": {
    "id": "XXwfhOsA5puc",
    "outputId": "d0da2e6b-fc85-4d01-df41-18b48532fa3c"
   },
   "outputs": [
    {
     "data": {
      "text/plain": [
       "Temperature Avg (C)         AxesSubplot(0.125,0.125;0.133621x0.755)\n",
       "Dew Point Avg (C)        AxesSubplot(0.285345,0.125;0.133621x0.755)\n",
       "Wind Speed Avg (kmph)     AxesSubplot(0.44569,0.125;0.133621x0.755)\n",
       "Humidity Avg (%)         AxesSubplot(0.606034,0.125;0.133621x0.755)\n",
       "Pressure Avg (in)        AxesSubplot(0.766379,0.125;0.133621x0.755)\n",
       "dtype: object"
      ]
     },
     "execution_count": 17,
     "metadata": {},
     "output_type": "execute_result"
    },
    {
     "data": {
      "image/png": "[encoded data removed]",
      "text/plain": [
       "<Figure size 720x360 with 5 Axes>"
      ]
     },
     "metadata": {
      "image/png": {
       "height": 305,
       "width": 592
      },
      "needs_background": "light"
     },
     "output_type": "display_data"
    }
   ],
   "source": [
    "df_weather_clean.plot(kind = 'box',subplots = True, figsize = (10,5))"
   ]
  },
  {
   "cell_type": "markdown",
   "metadata": {
    "id": "g4gSvRFC5puc"
   },
   "source": [
    "#### ข้อมูล weather ที่ clean แล้ว"
   ]
  },
  {
   "cell_type": "code",
   "execution_count": 18,
   "metadata": {
    "id": "PQ6_GuHP5puc",
    "outputId": "cfc286db-6920-4e8c-f019-cdf633692b37"
   },
   "outputs": [
    {
     "data": {
      "text/html": [
       "<div>\n",
       "<style scoped>\n",
       "    .dataframe tbody tr th:only-of-type {\n",
       "        vertical-align: middle;\n",
       "    }\n",
       "\n",
       "    .dataframe tbody tr th {\n",
       "        vertical-align: top;\n",
       "    }\n",
       "\n",
       "    .dataframe thead th {\n",
       "        text-align: right;\n",
       "    }\n",
       "</style>\n",
       "<table border=\"1\" class=\"dataframe\">\n",
       "  <thead>\n",
       "    <tr style=\"text-align: right;\">\n",
       "      <th></th>\n",
       "      <th>Temperature Avg (C)</th>\n",
       "      <th>Dew Point Avg (C)</th>\n",
       "      <th>Wind Speed Avg (kmph)</th>\n",
       "      <th>Humidity Avg (%)</th>\n",
       "      <th>Pressure Avg (in)</th>\n",
       "    </tr>\n",
       "    <tr>\n",
       "      <th>Date</th>\n",
       "      <th></th>\n",
       "      <th></th>\n",
       "      <th></th>\n",
       "      <th></th>\n",
       "      <th></th>\n",
       "    </tr>\n",
       "  </thead>\n",
       "  <tbody>\n",
       "    <tr>\n",
       "      <th>2016-01-01</th>\n",
       "      <td>28.00</td>\n",
       "      <td>18.78</td>\n",
       "      <td>5.95</td>\n",
       "      <td>58</td>\n",
       "      <td>29.90</td>\n",
       "    </tr>\n",
       "    <tr>\n",
       "      <th>2016-01-02</th>\n",
       "      <td>27.83</td>\n",
       "      <td>18.89</td>\n",
       "      <td>3.22</td>\n",
       "      <td>59</td>\n",
       "      <td>29.90</td>\n",
       "    </tr>\n",
       "    <tr>\n",
       "      <th>2016-01-03</th>\n",
       "      <td>28.56</td>\n",
       "      <td>18.72</td>\n",
       "      <td>2.90</td>\n",
       "      <td>56</td>\n",
       "      <td>29.90</td>\n",
       "    </tr>\n",
       "    <tr>\n",
       "      <th>2016-01-04</th>\n",
       "      <td>29.39</td>\n",
       "      <td>19.06</td>\n",
       "      <td>3.54</td>\n",
       "      <td>55</td>\n",
       "      <td>29.80</td>\n",
       "    </tr>\n",
       "    <tr>\n",
       "      <th>2016-01-05</th>\n",
       "      <td>29.89</td>\n",
       "      <td>18.94</td>\n",
       "      <td>4.18</td>\n",
       "      <td>54</td>\n",
       "      <td>29.80</td>\n",
       "    </tr>\n",
       "    <tr>\n",
       "      <th>...</th>\n",
       "      <td>...</td>\n",
       "      <td>...</td>\n",
       "      <td>...</td>\n",
       "      <td>...</td>\n",
       "      <td>...</td>\n",
       "    </tr>\n",
       "    <tr>\n",
       "      <th>2019-11-29</th>\n",
       "      <td>29.56</td>\n",
       "      <td>21.06</td>\n",
       "      <td>0.00</td>\n",
       "      <td>61</td>\n",
       "      <td>29.85</td>\n",
       "    </tr>\n",
       "    <tr>\n",
       "      <th>2019-11-30</th>\n",
       "      <td>30.28</td>\n",
       "      <td>22.06</td>\n",
       "      <td>0.00</td>\n",
       "      <td>62</td>\n",
       "      <td>29.80</td>\n",
       "    </tr>\n",
       "    <tr>\n",
       "      <th>2019-01-12</th>\n",
       "      <td>30.78</td>\n",
       "      <td>22.83</td>\n",
       "      <td>0.00</td>\n",
       "      <td>63</td>\n",
       "      <td>29.75</td>\n",
       "    </tr>\n",
       "    <tr>\n",
       "      <th>2019-02-12</th>\n",
       "      <td>29.61</td>\n",
       "      <td>21.00</td>\n",
       "      <td>0.32</td>\n",
       "      <td>60</td>\n",
       "      <td>29.80</td>\n",
       "    </tr>\n",
       "    <tr>\n",
       "      <th>2019-12-14</th>\n",
       "      <td>25.06</td>\n",
       "      <td>18.61</td>\n",
       "      <td>0.00</td>\n",
       "      <td>68</td>\n",
       "      <td>29.90</td>\n",
       "    </tr>\n",
       "  </tbody>\n",
       "</table>\n",
       "<p>1220 rows × 5 columns</p>\n",
       "</div>"
      ],
      "text/plain": [
       "            Temperature Avg (C)  Dew Point Avg (C)  Wind Speed Avg (kmph)  \\\n",
       "Date                                                                        \n",
       "2016-01-01                28.00              18.78                   5.95   \n",
       "2016-01-02                27.83              18.89                   3.22   \n",
       "2016-01-03                28.56              18.72                   2.90   \n",
       "2016-01-04                29.39              19.06                   3.54   \n",
       "2016-01-05                29.89              18.94                   4.18   \n",
       "...                         ...                ...                    ...   \n",
       "2019-11-29                29.56              21.06                   0.00   \n",
       "2019-11-30                30.28              22.06                   0.00   \n",
       "2019-01-12                30.78              22.83                   0.00   \n",
       "2019-02-12                29.61              21.00                   0.32   \n",
       "2019-12-14                25.06              18.61                   0.00   \n",
       "\n",
       "            Humidity Avg (%)  Pressure Avg (in)  \n",
       "Date                                             \n",
       "2016-01-01                58              29.90  \n",
       "2016-01-02                59              29.90  \n",
       "2016-01-03                56              29.90  \n",
       "2016-01-04                55              29.80  \n",
       "2016-01-05                54              29.80  \n",
       "...                      ...                ...  \n",
       "2019-11-29                61              29.85  \n",
       "2019-11-30                62              29.80  \n",
       "2019-01-12                63              29.75  \n",
       "2019-02-12                60              29.80  \n",
       "2019-12-14                68              29.90  \n",
       "\n",
       "[1220 rows x 5 columns]"
      ]
     },
     "execution_count": 18,
     "metadata": {},
     "output_type": "execute_result"
    }
   ],
   "source": [
    "df_weather_clean"
   ]
  },
  {
   "cell_type": "markdown",
   "metadata": {
    "id": "N2kFnrVj5puc",
    "toc-hr-collapsed": true
   },
   "source": [
    "# ข้อมูลฝุ่น pm2.5"
   ]
  },
  {
   "cell_type": "markdown",
   "metadata": {
    "id": "-cQn5TJ-5pud"
   },
   "source": [
    "#### สร้าง dataframe จาก url_pm"
   ]
  },
  {
   "cell_type": "code",
   "execution_count": null,
   "metadata": {
    "id": "kDTD47St5pud"
   },
   "outputs": [],
   "source": [
    "col_names = list('Year, Month, Day, Hour, PM2.5, PM10_mask, Retrospective'.split(', '))\n",
    "df_pm = pd.read_csv(url_pm, sep = '\\t', skiprows = 10, names = col_names)"
   ]
  },
  {
   "cell_type": "markdown",
   "metadata": {
    "id": "Ig-joI1a5pud"
   },
   "source": [
    "#### ลบ column 'PM10_mask','Retrospective' ออก"
   ]
  },
  {
   "cell_type": "code",
   "execution_count": null,
   "metadata": {
    "id": "fsQsU7HG5pud"
   },
   "outputs": [],
   "source": [
    "df_pm = df_pm.drop(columns = ['PM10_mask','Retrospective'])"
   ]
  },
  {
   "cell_type": "markdown",
   "metadata": {
    "id": "cSTURUnX5pud"
   },
   "source": [
    "#### สร้าง column ชื่อ Datetime และแปลง column เวลาให้เป็นเวลาประเทศไทย (UTC+7)\n",
    "#### และการใช้ ฟังก์ชั่น to_datetime และ to_timedelta ทำให้เวลาที่ +7 ชั่วโมงแล้วเกิน 24 จะปัดไปเป็นวันถัดไป"
   ]
  },
  {
   "cell_type": "code",
   "execution_count": null,
   "metadata": {
    "id": "Q8xJhjkm5pue"
   },
   "outputs": [],
   "source": [
    "df_pm['Datetime'] = pd.to_datetime(df_pm[['Year','Month','Day','Hour']]) + pd.to_timedelta(7, unit ='h')"
   ]
  },
  {
   "cell_type": "markdown",
   "metadata": {
    "id": "_sXG6-O25pue"
   },
   "source": [
    "#### ลบ column 'Year','Month','Day','Hour' ออก"
   ]
  },
  {
   "cell_type": "code",
   "execution_count": null,
   "metadata": {
    "id": "dWLi4Mx85pue"
   },
   "outputs": [],
   "source": [
    "df_pm = df_pm.drop(columns = ['Year','Month','Day','Hour'])"
   ]
  },
  {
   "cell_type": "markdown",
   "metadata": {
    "id": "013zskRu5pue"
   },
   "source": [
    "#### เอา column ที่มีค่า NA ออก"
   ]
  },
  {
   "cell_type": "code",
   "execution_count": null,
   "metadata": {
    "id": "yq8KxAYt5pue"
   },
   "outputs": [],
   "source": [
    "df_pm.dropna(inplace = True)"
   ]
  },
  {
   "cell_type": "markdown",
   "metadata": {
    "id": "q__DGkot5puf"
   },
   "source": [
    "#### กำหนดให้ column 'Date' เป็น index"
   ]
  },
  {
   "cell_type": "code",
   "execution_count": null,
   "metadata": {
    "id": "Wgz-NYl35puf"
   },
   "outputs": [],
   "source": [
    "df_pm.set_index('Datetime', inplace = True)"
   ]
  },
  {
   "cell_type": "markdown",
   "metadata": {
    "id": "mBnr2CnD5puf",
    "toc-hr-collapsed": true
   },
   "source": [
    "#### หาค่า mean ของรายวัน และ ปัดให้เหลือทศนิยม 2 หลัก"
   ]
  },
  {
   "cell_type": "code",
   "execution_count": null,
   "metadata": {
    "id": "Fzy97PDt5puf"
   },
   "outputs": [],
   "source": [
    "df_pm = df_pm.resample('D').mean().round(2)"
   ]
  },
  {
   "cell_type": "markdown",
   "metadata": {
    "id": "lvF1E4UX5puf"
   },
   "source": [
    "#### box plot ก่อน clean ข้อมูล"
   ]
  },
  {
   "cell_type": "code",
   "execution_count": null,
   "metadata": {
    "id": "lVSZon_J5puf",
    "outputId": "c7e1c715-9c74-4029-f992-286b9d5b8aeb"
   },
   "outputs": [],
   "source": [
    "df_pm.plot(kind = 'box',subplots = True, figsize = (10,5))"
   ]
  },
  {
   "cell_type": "markdown",
   "metadata": {
    "id": "_47n9_tQ5pug"
   },
   "source": [
    "#### clean ข้อมูลด้วยวิธี IQR 'interquartile range'"
   ]
  },
  {
   "cell_type": "code",
   "execution_count": null,
   "metadata": {
    "id": "TzIbe-y45pug"
   },
   "outputs": [],
   "source": [
    "Q1 = df_pm.quantile(0.376)\n",
    "Q3 = df_pm.quantile(0.75)\n",
    "IQR = Q3 - Q1"
   ]
  },
  {
   "cell_type": "code",
   "execution_count": null,
   "metadata": {
    "id": "zJVeT1kU5pug"
   },
   "outputs": [],
   "source": [
    "df_pm_clean = df_pm[~((df_pm < (Q1 - 1.5 * IQR)) |(df_pm > (Q3 + 1.5 * IQR))).any(axis=1)]"
   ]
  },
  {
   "cell_type": "markdown",
   "metadata": {
    "id": "YWzVquqj5pug"
   },
   "source": [
    "#### box plot หลัง clean ข้อมูลแล้ว"
   ]
  },
  {
   "cell_type": "code",
   "execution_count": null,
   "metadata": {
    "id": "-X-bcV4-5pug",
    "outputId": "0b360e82-9b94-4a88-da19-922f7e51d45f"
   },
   "outputs": [],
   "source": [
    "df_pm_clean.plot(kind = 'box',subplots = True, figsize = (10,5))"
   ]
  },
  {
   "cell_type": "markdown",
   "metadata": {
    "id": "ooGjAMy-5puh"
   },
   "source": [
    "#### ข้อมูล pm2.5 ที่ clean แล้ว"
   ]
  },
  {
   "cell_type": "code",
   "execution_count": null,
   "metadata": {
    "id": "_f0EYUbg5puh",
    "outputId": "43b62296-fbcb-4aa1-b04b-493f9e989009"
   },
   "outputs": [],
   "source": [
    "df_pm_clean.head()"
   ]
  },
  {
   "cell_type": "markdown",
   "metadata": {
    "id": "xH7PQ5Vw5puh",
    "toc-hr-collapsed": true
   },
   "source": [
    "# MERGE DATAFRAME"
   ]
  },
  {
   "cell_type": "markdown",
   "metadata": {
    "id": "hD__FOIk5puh"
   },
   "source": [
    "รวม 2 dataframe ด้วยคำสั่ง merge โดยให้ merge ด้วย column Datetime แบบ inner join"
   ]
  },
  {
   "cell_type": "code",
   "execution_count": null,
   "metadata": {
    "id": "EweHMEHk5puh"
   },
   "outputs": [],
   "source": [
    "df_result = pd.merge(df_pm_clean, df_weather_clean, left_index= True, right_index= True, how = 'inner')"
   ]
  },
  {
   "cell_type": "markdown",
   "metadata": {
    "id": "QdAvVWPz5puh"
   },
   "source": [
    "#### เปลี่ยนชื่อ column เป็น PM25"
   ]
  },
  {
   "cell_type": "code",
   "execution_count": null,
   "metadata": {
    "id": "K81g4IHf5pui"
   },
   "outputs": [],
   "source": [
    "df_result.rename(columns = {'PM2.5' : 'PM25'}, inplace = True)"
   ]
  },
  {
   "cell_type": "code",
   "execution_count": null,
   "metadata": {
    "id": "1kjSqGds5pui",
    "outputId": "66bd1c87-0e0d-41c4-ad5a-e5ce581a2418"
   },
   "outputs": [],
   "source": [
    "df_result.head()"
   ]
  },
  {
   "cell_type": "markdown",
   "metadata": {
    "id": "E5s-4Gmw5pui"
   },
   "source": [
    "#### เนื่องจากการหา regression จะมี column ที่ไม่มีค่า (NA) จึงต้องนำค่า Na ออก"
   ]
  },
  {
   "cell_type": "code",
   "execution_count": null,
   "metadata": {
    "id": "1HdiJTU95pui"
   },
   "outputs": [],
   "source": [
    "df_result.dropna(inplace = True)"
   ]
  },
  {
   "cell_type": "code",
   "execution_count": null,
   "metadata": {
    "id": "zZky7hYL5pui",
    "outputId": "007696a0-9399-4f69-ccb8-4ec18fbb4e85"
   },
   "outputs": [],
   "source": [
    "df_result.head()"
   ]
  },
  {
   "cell_type": "markdown",
   "metadata": {
    "id": "Mw0wPBWV5pui"
   },
   "source": [
    "# Widgets แสดง join plot ตาม variable ที่สนใจ"
   ]
  },
  {
   "cell_type": "code",
   "execution_count": null,
   "metadata": {
    "colab": {
     "referenced_widgets": [
      "20d95d1dace8416baf33ae4d55222bf5"
     ]
    },
    "id": "gr--zQn65puj",
    "outputId": "d06293f1-6c3b-4784-d864-e6ba0a2b35c2"
   },
   "outputs": [],
   "source": [
    "vari =widgets.Dropdown(\n",
    "    options= ['Temperature Avg (C)',\n",
    "              'Dew Point Avg (C)',\n",
    "              'Wind Speed Avg (kmph)',\n",
    "              'Humidity Avg (%)',\n",
    "              'Pressure Avg (in)'],\n",
    "    value='Temperature Avg (C)',\n",
    "    description='variable : ',\n",
    "    disabled=False,\n",
    ")\n",
    "display(vari)"
   ]
  },
  {
   "cell_type": "code",
   "execution_count": null,
   "metadata": {
    "id": "LcwrhmD75puj",
    "outputId": "66216c32-55bf-4d26-8063-1dcbd380b75f"
   },
   "outputs": [],
   "source": [
    "sns.jointplot(x = vari.value , y = 'PM25', data = df_result, kind = 'reg')"
   ]
  },
  {
   "cell_type": "markdown",
   "metadata": {
    "id": "gEtKQ8WY5puj"
   },
   "source": [
    "จากกราฟข้างต้น แสดงให้เห็นถึงการกระจายตัวของข้อมูล เส้นregression และ confident interval "
   ]
  },
  {
   "cell_type": "markdown",
   "metadata": {
    "id": "lIBLEv0t5puj",
    "toc-hr-collapsed": true
   },
   "source": [
    "# หาค่า correlation"
   ]
  },
  {
   "cell_type": "markdown",
   "metadata": {
    "id": "0PVF26YD5puj"
   },
   "source": [
    "correlation เป็นตัวเลข ที่บอกถึง ความสัมพันธ์ของสองตัวแปร เช่น ความสัมพันธ์ระหว่าง X และ Y มีค่าเป็นเท่าไหร โดยมี range อยู่ที่ -1 ถึง 1"
   ]
  },
  {
   "cell_type": "markdown",
   "metadata": {
    "id": "uGdFT5Vm5puk"
   },
   "source": [
    "#### สร้างตาราง correlation table เพื่อดูความสัมพันธ์ของตัวแปรแต่ละตัวแปร"
   ]
  },
  {
   "cell_type": "code",
   "execution_count": null,
   "metadata": {
    "id": "CC-VUeYB5puk"
   },
   "outputs": [],
   "source": [
    "result_corr = df_result.corr()"
   ]
  },
  {
   "cell_type": "code",
   "execution_count": null,
   "metadata": {
    "id": "NlwGq62U5puk",
    "outputId": "bd41c67d-4192-4ba0-f883-497c9c468889"
   },
   "outputs": [],
   "source": [
    "result_corr"
   ]
  },
  {
   "cell_type": "markdown",
   "metadata": {
    "id": "7HMjrHY-5puk"
   },
   "source": [
    "#### สร้าง correlation matrix เพื่อ visualize"
   ]
  },
  {
   "cell_type": "code",
   "execution_count": null,
   "metadata": {
    "id": "YCnY5vn25puk"
   },
   "outputs": [],
   "source": [
    "cmap = sns.diverging_palette(h_neg = 0, h_pos = 120, as_cmap = True) "
   ]
  },
  {
   "cell_type": "markdown",
   "metadata": {
    "id": "W_sHqfbX5puk"
   },
   "source": [
    "#### สร้าง np.array ที่สมาชิกทุกตัวมีค่าเป็น 0 และมีขนาดเท่ากับ result_corr   \n",
    "#### จากนั้นน mask สามเหลี่ยมบน(tri-upper)ของ array mask ให้มีค่าเป็น 1"
   ]
  },
  {
   "cell_type": "code",
   "execution_count": null,
   "metadata": {
    "id": "ZtN4CS9g5puk"
   },
   "outputs": [],
   "source": [
    "mask=np.zeros_like(df_result.corr())\n",
    "mask[np.triu_indices_from(mask)] = True"
   ]
  },
  {
   "cell_type": "code",
   "execution_count": null,
   "metadata": {
    "id": "XTOAuoRT5pul",
    "outputId": "89464ba5-15c0-424b-947b-5570a8ede842"
   },
   "outputs": [],
   "source": [
    "mask"
   ]
  },
  {
   "cell_type": "code",
   "execution_count": null,
   "metadata": {
    "id": "DgdijXbC5pul",
    "outputId": "f1d14a18-7154-48fb-b86a-d57404841f50"
   },
   "outputs": [],
   "source": [
    "plt.figure(figsize = (10,5))\n",
    "sns.heatmap(df_result.corr(), \n",
    "            mask=mask, \n",
    "            annot=True, \n",
    "            linewidths=.5, \n",
    "            vmin = -1, \n",
    "            vmax = 1, \n",
    "            cmap = cmap, \n",
    "            fmt = '.2f', \n",
    "            square = True, \n",
    "            center = 0 )"
   ]
  },
  {
   "cell_type": "markdown",
   "metadata": {
    "id": "1SVCpGrv5pul"
   },
   "source": [
    "จะเห็นได้ว่า ค่า correlation ของ อุณหภูมิ Temperature Avg (C) กับ ค่า PM2.5 มีค่าเท่ากับ 0.015509  \n",
    "\n",
    "ตีความได้ว่า \"สองตัวแปรไม่มีความสัมพันธ์กัน\" เนื่องจากตกใน range -0.3 ถึง 0.3: No correlation  \n",
    "\n",
    "เมื่อตีความเพิ่มเติมจะเห็นได้ว่า  \n",
    "\n",
    "ปัจจัยต่างๆที่ มีความสัมพันธ์กับ PM2.5 ดังนี้  \n",
    "\n",
    "-0.3 ถึง 0.3: No correlation      Temperature Avg (C)    Wind Speed Avg (kmph)  \n",
    "\n",
    "-0.69 ถึง -0.31: Weak Negative    Dew Point Avg (C)      Humidity Avg (%)  \n",
    "\n",
    "0.31 ถึง 0.69 : Weak Positive     Pressure Avg (in)\n"
   ]
  },
  {
   "cell_type": "markdown",
   "metadata": {
    "id": "0PtqUVM-5pul",
    "toc-hr-collapsed": true
   },
   "source": [
    "# Multiple regression"
   ]
  },
  {
   "cell_type": "markdown",
   "metadata": {
    "id": "O5-Rv9ax5pul"
   },
   "source": [
    "### หา regression\n",
    "\n",
    "ศึกษาเพิ่มเติมว่าปัญจัยคู่ใดมีผลส่งเสริมกันเพื่อให้อุณหภูมิมีผลกับค่า pm2.5"
   ]
  },
  {
   "cell_type": "code",
   "execution_count": null,
   "metadata": {
    "id": "EzeWGgNq5pum"
   },
   "outputs": [],
   "source": [
    "import statsmodels.api as sm"
   ]
  },
  {
   "cell_type": "code",
   "execution_count": null,
   "metadata": {
    "id": "ClllVbMq5pum",
    "outputId": "62be1fc7-3a77-4d16-a0f6-4032eb563e4e"
   },
   "outputs": [],
   "source": [
    "x=df_result['PM25']\n",
    "y=df_result[['Temperature Avg (C)','Dew Point Avg (C)']]\n",
    "model_TD = sm.OLS(x,y).fit()\n",
    "print(model_TD.summary())"
   ]
  },
  {
   "cell_type": "markdown",
   "metadata": {
    "id": "zJet41dR5pum"
   },
   "source": [
    "# สรุป"
   ]
  },
  {
   "cell_type": "markdown",
   "metadata": {
    "id": "zsRD0i6O5pum"
   },
   "source": [
    "จากการตั้งสมมติฐานให้ ตัวแปรPM2.5 กับ ตัวแปรอุณหภูมิ มีความสัมพันธ์กัน\n",
    "เมื่อดูจากผลการวิเคราะห์ จะพบว่าค่า p-value(P>|t|) ของตัวแปรอุณหภูมิ กับ ตัวแปรPM2.5 มีค่าน้อยกว่าค่าความเชื่อมั่นที่ 99%0(significant level = 0.01)\n",
    "คือ 0.00 < 0.01 (ทั้ง Temperature Avg (C) และ Dew Point Avg (C))\n",
    "ซึ่ง สามารถอธิบายได้ว่ามีหลักฐานเพียงพอที่จะปฎิเสธสมมติฐานที่ว่า ตัวแปรPM2.5 กับ ตัวแปรอุณหภูมิมีความสัมพันธ์กัน "
   ]
  },
  {
   "cell_type": "markdown",
   "metadata": {
    "id": "8TQlnWF05pum"
   },
   "source": [
    "ดังนั้น จากการศึกษาข้างต้น จึงพบว่า อุณหภูมิ ไม่ได้เป็นประเด็นที่จะส่งผลต่อค่าฝุ่น PM2.5 ดังที่ข่าวรายงานในหัวข้อข่าว"
   ]
  },
  {
   "cell_type": "code",
   "execution_count": null,
   "metadata": {},
   "outputs": [],
   "source": []
  }
 ],
 "metadata": {
  "colab": {
   "collapsed_sections": [
    "qkwt9mGp5puZ",
    "KKMNCewk5puZ",
    "zjLynMsu5puZ",
    "G7QeCdXR5pua",
    "_PPICVJa5pua",
    "_VzvKifP5pub",
    "Cw7vaXTS5pub",
    "dk4GsJDg5puc",
    "g4gSvRFC5puc",
    "-cQn5TJ-5pud",
    "Ig-joI1a5pud",
    "cSTURUnX5pud",
    "_sXG6-O25pue",
    "013zskRu5pue",
    "q__DGkot5puf",
    "mBnr2CnD5puf",
    "lvF1E4UX5puf",
    "_47n9_tQ5pug",
    "YWzVquqj5pug",
    "ooGjAMy-5puh",
    "QdAvVWPz5puh",
    "E5s-4Gmw5pui",
    "uGdFT5Vm5puk",
    "7HMjrHY-5puk",
    "W_sHqfbX5puk"
   ],
   "name": "Team0_pm25.ipynb",
   "provenance": []
  },
  "kernelspec": {
   "display_name": "Python 3",
   "language": "python",
   "name": "python3"
  },
  "language_info": {
   "codemirror_mode": {
    "name": "ipython",
    "version": 3
   },
   "file_extension": ".py",
   "mimetype": "text/x-python",
   "name": "python",
   "nbconvert_exporter": "python",
   "pygments_lexer": "ipython3",
   "version": "3.8.3"
  }
 },
 "nbformat": 4,
 "nbformat_minor": 1
}
